{
 "cells": [
  {
   "cell_type": "code",
   "execution_count": 1,
   "metadata": {},
   "outputs": [
    {
     "name": "stdout",
     "output_type": "stream",
     "text": [
      "2.3.2\n"
     ]
    }
   ],
   "source": [
    "import numpy as np\n",
    "\n",
    "print(np.__version__)"
   ]
  },
  {
   "cell_type": "code",
   "execution_count": 8,
   "metadata": {},
   "outputs": [
    {
     "name": "stdout",
     "output_type": "stream",
     "text": [
      "Multiply list [1, 2, 3, 4] by 2\n",
      "<class 'list'>\n",
      "Python list:  [1, 2, 3, 4, 1, 2, 3, 4]\n",
      "<class 'numpy.ndarray'>\n",
      "NumPy array:  [2 4 6 8]\n"
     ]
    }
   ],
   "source": [
    "print(\"Multiply list [1, 2, 3, 4] by 2\")\n",
    "\n",
    "my_list = [1, 2, 3, 4]\n",
    "print(type(my_list))\n",
    "print(\"Python list: \", my_list * 2)\n",
    "\n",
    "arr = np.array([1, 2, 3, 4])\n",
    "print(type(arr))\n",
    "print(\"NumPy array: \", arr * 2)"
   ]
  },
  {
   "cell_type": "markdown",
   "metadata": {},
   "source": [
    "### Multidimensional arrays\n",
    "- arr.ndim - get number of dims"
   ]
  },
  {
   "cell_type": "code",
   "execution_count": 17,
   "metadata": {},
   "outputs": [
    {
     "name": "stdout",
     "output_type": "stream",
     "text": [
      "0 A\n",
      "1 ['A' 'B' 'C']\n",
      "2 [['A' 'B' 'C']\n",
      " ['D' 'E' 'F']\n",
      " ['G' 'H' 'I']]\n"
     ]
    }
   ],
   "source": [
    "arr0 = np.array('A')\n",
    "print(arr0.ndim, arr0)\n",
    "\n",
    "arr1 = np.array(['A', 'B', 'C'])\n",
    "print(arr1.ndim, arr1)\n",
    "\n",
    "arr2 = np.array([['A', 'B', 'C'],\n",
    "                 ['D', 'E', 'F'],\n",
    "                 ['G', 'H', 'I']])\n",
    "# error\n",
    "# ABC\n",
    "# DEF\n",
    "# GH\n",
    "print(arr2.ndim, arr2)"
   ]
  },
  {
   "cell_type": "markdown",
   "metadata": {},
   "source": [
    "### Multidimensional indexing is faster than chain indexing"
   ]
  },
  {
   "cell_type": "code",
   "execution_count": 21,
   "metadata": {},
   "outputs": [
    {
     "name": "stdout",
     "output_type": "stream",
     "text": [
      "A\n",
      "A\n",
      "EFA\n"
     ]
    }
   ],
   "source": [
    "# chain indexing\n",
    "print(arr2[0][0])\n",
    "# multidimensional indexing\n",
    "print(arr2[0, 0])\n",
    "word = arr2[1, 1] + arr2[1, 2] + arr2[0, 0]\n",
    "print(word)"
   ]
  },
  {
   "cell_type": "markdown",
   "metadata": {},
   "source": [
    "### Slicing\n",
    "- arr[start:end:step]"
   ]
  },
  {
   "cell_type": "code",
   "execution_count": 22,
   "metadata": {},
   "outputs": [
    {
     "name": "stdout",
     "output_type": "stream",
     "text": [
      "[5 6 7 8]\n",
      "[13 14 15 16]\n"
     ]
    }
   ],
   "source": [
    "nums = np.array([[1, 2, 3, 4],\n",
    "                 [5, 6, 7, 8],\n",
    "                 [9, 10, 11, 12],\n",
    "                 [13, 14, 15, 16]])\n",
    "\n",
    "# single rows\n",
    "print(nums[1])\n",
    "print(nums[-1])"
   ]
  },
  {
   "cell_type": "code",
   "execution_count": 28,
   "metadata": {},
   "outputs": [
    {
     "name": "stdout",
     "output_type": "stream",
     "text": [
      "[[ 5  6  7  8]\n",
      " [ 9 10 11 12]]\n",
      "[[ 5  6  7  8]\n",
      " [ 9 10 11 12]\n",
      " [13 14 15 16]]\n",
      "[[ 1  2  3  4]\n",
      " [ 9 10 11 12]]\n",
      "[[13 14 15 16]\n",
      " [ 5  6  7  8]]\n"
     ]
    }
   ],
   "source": [
    "# multiple rows\n",
    "print(nums[1:3])\n",
    "print(nums[1:])\n",
    "# step\n",
    "print(nums[0:4:2])\n",
    "nums[0:4:2] == nums[::2]\n",
    "# reverse step\n",
    "print(nums[::-2])"
   ]
  },
  {
   "cell_type": "code",
   "execution_count": 32,
   "metadata": {},
   "outputs": [
    {
     "name": "stdout",
     "output_type": "stream",
     "text": [
      "[ 1  5  9 13]\n",
      "[ 4  8 12 16]\n",
      "[[ 1  2  3]\n",
      " [ 5  6  7]\n",
      " [ 9 10 11]\n",
      " [13 14 15]]\n"
     ]
    }
   ],
   "source": [
    "# col selection\n",
    "first_col = nums[:, 0]\n",
    "print(first_col)\n",
    "last_col = nums[:, -1]\n",
    "print(last_col)\n",
    "\n",
    "# first three cols\n",
    "print(nums[:, 0:3])"
   ]
  },
  {
   "cell_type": "code",
   "execution_count": 33,
   "metadata": {},
   "outputs": [
    {
     "name": "stdout",
     "output_type": "stream",
     "text": [
      "[[1 2]\n",
      " [5 6]]\n"
     ]
    }
   ],
   "source": [
    "# get first two rows and first two columns (quadrant)\n",
    "print(nums[0:2, 0:2])"
   ]
  },
  {
   "cell_type": "markdown",
   "metadata": {},
   "source": [
    "## Arithmetic"
   ]
  },
  {
   "cell_type": "markdown",
   "metadata": {},
   "source": [
    "### Scalar arithmetic\n",
    "- scalar - a single value"
   ]
  },
  {
   "cell_type": "code",
   "execution_count": 38,
   "metadata": {},
   "outputs": [
    {
     "name": "stdout",
     "output_type": "stream",
     "text": [
      "[1 2 3]\n",
      "add 1 [2 3 4]\n",
      "subtract 2 [-1  0  1]\n",
      "multiply by 3 [3 6 9]\n",
      "divide by 4 [0.25 0.5  0.75]\n",
      "power of 5 [  1  32 243]\n"
     ]
    }
   ],
   "source": [
    "array = np.array([1, 2, 3])\n",
    "print(array)\n",
    "print(\"add 1\", array + 1)\n",
    "print(\"subtract 2\", array - 2)\n",
    "print(\"multiply by 3\", array * 3)\n",
    "print(\"divide by 4\", array / 4)\n",
    "print(\"power of 5\", array ** 5)"
   ]
  },
  {
   "cell_type": "markdown",
   "metadata": {},
   "source": [
    "### vectorized math funcs"
   ]
  },
  {
   "cell_type": "code",
   "execution_count": 40,
   "metadata": {},
   "outputs": [
    {
     "name": "stdout",
     "output_type": "stream",
     "text": [
      "[1.         1.41421356 1.73205081]\n"
     ]
    }
   ],
   "source": [
    "# square root\n",
    "print(np.sqrt(array))"
   ]
  },
  {
   "cell_type": "code",
   "execution_count": 43,
   "metadata": {},
   "outputs": [
    {
     "name": "stdout",
     "output_type": "stream",
     "text": [
      "original [1.02 2.04 3.99]\n",
      "round [1. 2. 4.]\n",
      "floor [1. 2. 3.]\n",
      "ceil [2. 3. 4.]\n"
     ]
    }
   ],
   "source": [
    "array = np.array([1.02, 2.04, 3.99])\n",
    "print(\"original\", array)\n",
    "# rounding\n",
    "print(\"round\", np.round(array))\n",
    "# floor\n",
    "print(\"floor\", np.floor(array))\n",
    "# ceiling\n",
    "print(\"ceil\", np.ceil(array))"
   ]
  },
  {
   "cell_type": "code",
   "execution_count": 44,
   "metadata": {},
   "outputs": [
    {
     "data": {
      "text/plain": [
       "3.141592653589793"
      ]
     },
     "execution_count": 44,
     "metadata": {},
     "output_type": "execute_result"
    }
   ],
   "source": [
    "np.pi"
   ]
  },
  {
   "cell_type": "code",
   "execution_count": 45,
   "metadata": {},
   "outputs": [
    {
     "name": "stdout",
     "output_type": "stream",
     "text": [
      "[ 3.14159265 12.56637061 28.27433388]\n"
     ]
    }
   ],
   "source": [
    "radii = np.array([1, 2, 3])\n",
    "# A = pi * r^2\n",
    "print(np.pi * radii ** 2)"
   ]
  },
  {
   "cell_type": "markdown",
   "metadata": {},
   "source": [
    "### element-wise arithmetic"
   ]
  },
  {
   "cell_type": "code",
   "execution_count": 48,
   "metadata": {},
   "outputs": [
    {
     "name": "stdout",
     "output_type": "stream",
     "text": [
      "arr1 [1 2 3]\n",
      "arr2 [4 5 6]\n",
      "arr1 + arr2 [5 7 9]\n",
      "arr1 - arr2 [-3 -3 -3]\n",
      "arr1 * arr2 [ 4 10 18]\n",
      "arr1 / arr2 [0.25 0.4  0.5 ]\n",
      "arr1 // arr2 [0 0 0]\n",
      "arr1 ** arr2 [  1  32 729]\n"
     ]
    }
   ],
   "source": [
    "arr1 = np.array([1, 2, 3])\n",
    "arr2 = np.array([4, 5, 6])\n",
    "print(\"arr1\", arr1)\n",
    "print(\"arr2\", arr2)\n",
    "print(\"arr1 + arr2\", arr1 + arr2)\n",
    "print(\"arr1 - arr2\", arr1 - arr2)\n",
    "print(\"arr1 * arr2\", arr1 * arr2)\n",
    "print(\"arr1 / arr2\", arr1 / arr2)\n",
    "print(\"arr1 // arr2\", arr1 // arr2)\n",
    "print(\"arr1 ** arr2\", arr1 ** arr2)"
   ]
  },
  {
   "cell_type": "markdown",
   "metadata": {},
   "source": [
    "### comparison operators\n",
    "- check every element"
   ]
  },
  {
   "cell_type": "code",
   "execution_count": 49,
   "metadata": {},
   "outputs": [
    {
     "name": "stdout",
     "output_type": "stream",
     "text": [
      "[False False  True False False False]\n",
      "[ True False  True  True  True  True]\n",
      "[False  True False False False False]\n"
     ]
    }
   ],
   "source": [
    "scores = np.array([91, 55, 100, 73, 82, 64])\n",
    "print(scores == 100)\n",
    "print(scores >= 60)\n",
    "print(scores < 60)"
   ]
  },
  {
   "cell_type": "code",
   "execution_count": 50,
   "metadata": {},
   "outputs": [
    {
     "name": "stdout",
     "output_type": "stream",
     "text": [
      "[ 91  55 100  73  82  64]\n",
      "[ 91   0 100  73  82  64]\n"
     ]
    }
   ],
   "source": [
    "print(scores)\n",
    "# any score less than 60 is set to 0\n",
    "scores[scores < 60] = 0\n",
    "print(scores)"
   ]
  },
  {
   "cell_type": "markdown",
   "metadata": {},
   "source": [
    "### Broadcasting\n",
    "- allows NumPy to perform operations of arrays with different shapes\n",
    "- virtually expands dims so they match the larger array's shape\n",
    "    - the dims have the same size\n",
    "    - OR\n",
    "    - one of the dims has a size of 1\n",
    "- (1, 4) * (4, 1) -> (4, 4)\n",
    "- (2, 4) * (4, 1) -> error\n",
    "- (4, 4) * (4, 1) -> (4, 4)\n",
    "- (4, 4) * (4, 2) -> error\n"
   ]
  },
  {
   "cell_type": "code",
   "execution_count": 56,
   "metadata": {},
   "outputs": [
    {
     "name": "stdout",
     "output_type": "stream",
     "text": [
      "(1, 4) [[1 1 1 1]]\n",
      "(4, 1) [[1]\n",
      " [2]\n",
      " [3]\n",
      " [4]]\n",
      "arr1 * arr2 [[1 1 1 1]\n",
      " [2 2 2 2]\n",
      " [3 3 3 3]\n",
      " [4 4 4 4]]\n"
     ]
    }
   ],
   "source": [
    "arr1 = np.array([[1, 1, 1, 1]]) # (1, 4)\n",
    "# error: (2, 4)\n",
    "print(arr1.shape, arr1)\n",
    "arr2 = np.array([[1], [2], [3], [4]])\n",
    "print(arr2.shape, arr2)\n",
    "# element-wise\n",
    "print(\"arr1 * arr2\", arr1 * arr2)"
   ]
  },
  {
   "cell_type": "markdown",
   "metadata": {},
   "source": [
    "### aggregate functions\n",
    "- summarize data\n",
    "- typically return a single value"
   ]
  },
  {
   "cell_type": "code",
   "execution_count": 68,
   "metadata": {},
   "outputs": [
    {
     "name": "stdout",
     "output_type": "stream",
     "text": [
      "[[ 1  2  3  4  5]\n",
      " [ 6  7  8  9 10]]\n",
      "total sum 55 55\n",
      "sum of every col [ 7  9 11 13 15] [ 7  9 11 13 15]\n",
      "sum of every row [15 40] [15 40]\n",
      "mean 5.5 5.5\n",
      "min 1 1\n",
      "max 10 10\n"
     ]
    }
   ],
   "source": [
    "array = np.array([[1, 2, 3, 4, 5],\n",
    "                  [6, 7, 8, 9, 10]])\n",
    "print(array)\n",
    "print(\"total sum\", np.sum(array), array.sum())\n",
    "print(\"sum of every col\", np.sum(array, axis=0), array.sum(axis=0))\n",
    "print(\"sum of every row\", np.sum(array, axis=1), array.sum(axis=1))\n",
    "print(\"mean\", np.mean(array), array.mean())\n",
    "print(\"min\", np.min(array), array.min())\n",
    "print(\"max\", np.max(array), array.max())"
   ]
  },
  {
   "cell_type": "markdown",
   "metadata": {},
   "source": [
    "### filtering\n",
    "- select elements from an array that match a given condition"
   ]
  },
  {
   "cell_type": "code",
   "execution_count": 84,
   "metadata": {},
   "outputs": [
    {
     "name": "stdout",
     "output_type": "stream",
     "text": [
      "teens [17 16 15] [ True  True  True]\n",
      "adults [21 19 20 30 18 39 22 18 19 20 21]\n",
      "not adults [17 16 65 15 99]\n",
      "evens [20 16 30 18 22 18 20]\n",
      "odds [21 17 19 65 39 15 99 19 21] [ True  True  True  True  True  True  True  True  True]\n"
     ]
    }
   ],
   "source": [
    "ages = np.array([[21, 17, 19, 20, 16, 30, 18, 65],\n",
    "                 [39, 22, 15, 99, 18, 19, 20, 21]])\n",
    "# boolean indexing\n",
    "teens = ages[ages < 18]\n",
    "teens2 = ages[~(ages >= 18)]\n",
    "adults = ages[(ages >= 18) & (ages < 65)]\n",
    "not_adults = ages[(ages < 18) | (ages >= 65)]\n",
    "evens = ages[ages % 2 == 0]\n",
    "odds = ages[ages % 2 != 0]\n",
    "odds2 = ages[ages % 2 == 1]\n",
    "print(\"teens\", teens, teens == teens2)\n",
    "print(\"adults\", adults)\n",
    "print(\"not adults\", not_adults)\n",
    "print(\"evens\", evens)\n",
    "print(\"odds\", odds, odds == odds2)"
   ]
  },
  {
   "cell_type": "code",
   "execution_count": 89,
   "metadata": {},
   "outputs": [
    {
     "name": "stdout",
     "output_type": "stream",
     "text": [
      "[[21  0 19 20  0 30 18 65]\n",
      " [39 22  0 99 18 19 20 21]]\n",
      "[[21  0 19 20  0 30 18 65]\n",
      " [39 22  0 99 18 19 20 21]]\n",
      "[[ True  True  True  True  True  True  True  True]\n",
      " [ True  True  True  True  True  True  True  True]]\n"
     ]
    }
   ],
   "source": [
    "new = np.where(ages >= 18, ages, 0)\n",
    "ages[ages < 18] = 0\n",
    "print(new)\n",
    "print(ages)\n",
    "print(new == ages)"
   ]
  },
  {
   "cell_type": "markdown",
   "metadata": {},
   "source": [
    "### random numbers"
   ]
  },
  {
   "cell_type": "code",
   "execution_count": 113,
   "metadata": {},
   "outputs": [
    {
     "name": "stdout",
     "output_type": "stream",
     "text": [
      "[3 3 4]\n",
      "[[ 2 32]\n",
      " [ 7 61]\n",
      " [19 10]]\n"
     ]
    }
   ],
   "source": [
    "# no parameters - random\n",
    "rng = np.random.default_rng()\n",
    "# seed - pseudorandom\n",
    "# rng = np.random.default_rng(seed=1)\n",
    "print(rng.integers(low=1, high=7, size=3))\n",
    "print(rng.integers(1, 100, (3, 2)))"
   ]
  },
  {
   "cell_type": "code",
   "execution_count": 131,
   "metadata": {},
   "outputs": [
    {
     "name": "stdout",
     "output_type": "stream",
     "text": [
      "0.538816734003357\n",
      "[[2.83838903 3.370439  ]\n",
      " [2.4089045  3.75623487]]\n"
     ]
    }
   ],
   "source": [
    "# seed\n",
    "# np.random.seed(seed=1)\n",
    "\n",
    "# no parameters - between 0 and 1\n",
    "rnd = np.random.uniform()\n",
    "print(rnd)\n",
    "\n",
    "rnd2 = np.random.uniform(2, 4, (2, 2))\n",
    "print(rnd2)"
   ]
  },
  {
   "cell_type": "code",
   "execution_count": 151,
   "metadata": {},
   "outputs": [
    {
     "name": "stdout",
     "output_type": "stream",
     "text": [
      "[[2.83838903 3.370439  ]\n",
      " [2.4089045  3.75623487]]\n"
     ]
    }
   ],
   "source": [
    "# shuffle on rng\n",
    "rng.shuffle(rnd2)\n",
    "print(rnd2)"
   ]
  },
  {
   "cell_type": "code",
   "execution_count": 155,
   "metadata": {},
   "outputs": [
    {
     "data": {
      "text/plain": [
       "array([5, 5])"
      ]
     },
     "execution_count": 155,
     "metadata": {},
     "output_type": "execute_result"
    }
   ],
   "source": [
    "nums = np.array([1, 2, 3, 4, 5])\n",
    "rng.choice(nums, size=2)"
   ]
  }
 ],
 "metadata": {
  "kernelspec": {
   "display_name": "venv",
   "language": "python",
   "name": "python3"
  },
  "language_info": {
   "codemirror_mode": {
    "name": "ipython",
    "version": 3
   },
   "file_extension": ".py",
   "mimetype": "text/x-python",
   "name": "python",
   "nbconvert_exporter": "python",
   "pygments_lexer": "ipython3",
   "version": "3.13.5"
  }
 },
 "nbformat": 4,
 "nbformat_minor": 2
}
