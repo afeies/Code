{
 "cells": [
  {
   "cell_type": "markdown",
   "metadata": {},
   "source": [
    "### create simple 3x3 matrix"
   ]
  },
  {
   "cell_type": "code",
   "execution_count": 1,
   "metadata": {},
   "outputs": [
    {
     "data": {
      "text/plain": [
       "array([[1, 2, 3],\n",
       "       [4, 5, 6],\n",
       "       [7, 8, 9]])"
      ]
     },
     "execution_count": 1,
     "metadata": {},
     "output_type": "execute_result"
    }
   ],
   "source": [
    "import numpy as np\n",
    "\n",
    "A = np.array([[1, 2, 3], [4, 5, 6], [7, 8, 9]])\n",
    "A"
   ]
  },
  {
   "cell_type": "markdown",
   "metadata": {},
   "source": [
    "### rowspace\n",
    "- the space spanned by the rows\n",
    "- the set of all linear combinations of the rows of a matrix, treated as vectors\n",
    "- row space(A) = span{[1, 2, 3], [4, 5, 6], [7, 8, 9]}"
   ]
  },
  {
   "cell_type": "code",
   "execution_count": 2,
   "metadata": {},
   "outputs": [
    {
     "name": "stdout",
     "output_type": "stream",
     "text": [
      "The rowspace is spanned by these rows vectors: \n",
      "Row 1: [1 2 3]\n",
      "Row 2: [4 5 6]\n",
      "Row 3: [7 8 9]\n",
      "Matrix rank: 2\n",
      "Number of rows: 3\n",
      "Some rows are linear combinations of others\n"
     ]
    }
   ],
   "source": [
    "print(\"The rowspace is spanned by these rows vectors: \")\n",
    "for i, row in enumerate(A):\n",
    "    print(f\"Row {i+1}: {row}\")\n",
    "\n",
    "rank = np.linalg.matrix_rank(A)\n",
    "print(f\"Matrix rank: {rank}\")\n",
    "print(f\"Number of rows: {A.shape[0]}\")\n",
    "\n",
    "if rank < A.shape[0]:\n",
    "    print(\"Some rows are linear combinations of others\")\n",
    "else:\n",
    "    print(\"All rows are linearly independent\")"
   ]
  },
  {
   "cell_type": "markdown",
   "metadata": {},
   "source": [
    "### columnspace\n",
    "- the space spanned by the cols"
   ]
  },
  {
   "cell_type": "code",
   "execution_count": 3,
   "metadata": {},
   "outputs": [
    {
     "name": "stdout",
     "output_type": "stream",
     "text": [
      "The columnspace is spanned by these column vectors\n",
      "Column 1: [1 4 7]\n",
      "Column 2: [2 5 8]\n",
      "Column 3: [3 6 9]\n",
      "Matrix rank: 2\n",
      "Number of columns: 3\n",
      "Some columns are linear combinations of others\n"
     ]
    }
   ],
   "source": [
    "print(\"The columnspace is spanned by these column vectors\")\n",
    "for i in range(A.shape[1]):\n",
    "    print(f\"Column {i + 1}: {A[:, i]}\")\n",
    "\n",
    "print(f\"Matrix rank: {rank}\")\n",
    "print(f\"Number of columns: {A.shape[1]}\")\n",
    "\n",
    "if rank < A.shape[1]:\n",
    "    print(\"Some columns are linear combinations of others\")\n",
    "else:\n",
    "    print(\"All columns are linearly independent\")"
   ]
  },
  {
   "cell_type": "markdown",
   "metadata": {},
   "source": [
    "### rank\n",
    "- rank = dim(row space) = dim(col space)\n",
    "- num. of linearly independent cols"
   ]
  },
  {
   "cell_type": "markdown",
   "metadata": {},
   "source": [
    "### linear combinations\n",
    "- multiply vectors by numbers and add them up\n",
    "- c1*v1 + c2*v2 + c3*v3 + ..."
   ]
  },
  {
   "cell_type": "markdown",
   "metadata": {},
   "source": [
    "### linearly independent cols\n",
    "- no col can be written as a combination of the other cols"
   ]
  }
 ],
 "metadata": {
  "kernelspec": {
   "display_name": "venv",
   "language": "python",
   "name": "python3"
  },
  "language_info": {
   "codemirror_mode": {
    "name": "ipython",
    "version": 3
   },
   "file_extension": ".py",
   "mimetype": "text/x-python",
   "name": "python",
   "nbconvert_exporter": "python",
   "pygments_lexer": "ipython3",
   "version": "3.13.5"
  }
 },
 "nbformat": 4,
 "nbformat_minor": 2
}
