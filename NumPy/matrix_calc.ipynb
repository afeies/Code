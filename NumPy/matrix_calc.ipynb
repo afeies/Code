{
 "cells": [
  {
   "cell_type": "markdown",
   "metadata": {},
   "source": [
    "- create arrays: np.array(x, dtype=dtype)\n",
    "- identity matrix: np.eye(2)"
   ]
  },
  {
   "cell_type": "code",
   "execution_count": 4,
   "metadata": {},
   "outputs": [
    {
     "name": "stdout",
     "output_type": "stream",
     "text": [
      "A:\n",
      " [[1. 2.]\n",
      " [3. 4.]] \n",
      "shape: (2, 2)\n",
      "B:\n",
      " [[5. 6.]\n",
      " [7. 8.]] \n",
      "shape: (2, 2)\n",
      "x (column vector):\n",
      " [[ 9.]\n",
      " [10.]] \n",
      "shape: (2, 1)\n",
      "C (non-square):\n",
      " [[1. 2. 3.]\n",
      " [4. 5. 6.]] \n",
      "shape: (2, 3)\n",
      "I2 (identity):\n",
      " [[1. 0.]\n",
      " [0. 1.]] \n",
      "shape: (2, 2)\n"
     ]
    }
   ],
   "source": [
    "import numpy as np\n",
    "\n",
    "def arr(x, dtype=float):\n",
    "    return np.array(x, dtype=dtype)\n",
    "\n",
    "A = arr([[1, 2],\n",
    "        [3, 4]])\n",
    "\n",
    "B = arr([[5, 6],\n",
    "         [7, 8]])\n",
    "\n",
    "x = arr([[9],\n",
    "         [10]])\n",
    "\n",
    "C = arr([[1, 2, 3],\n",
    "         [4, 5, 6]])\n",
    "\n",
    "# identity matrix\n",
    "I2 = np.eye(2)\n",
    "\n",
    "print(\"A:\\n\", A, \"\\nshape:\", A.shape)\n",
    "print(\"B:\\n\", B, \"\\nshape:\", B.shape)\n",
    "print(\"x (column vector):\\n\", x, \"\\nshape:\", x.shape)\n",
    "print(\"C (non-square):\\n\", C, \"\\nshape:\", C.shape)\n",
    "print(\"I2 (identity):\\n\", I2, \"\\nshape:\", I2.shape)"
   ]
  },
  {
   "cell_type": "markdown",
   "metadata": {},
   "source": [
    "# Basic element-wise operations\n",
    "- operations where the two arrays must have the same shape\n",
    "    - unless NumPy broadcasting can be applied\n",
    "- NumPy performs the operation for each matching position"
   ]
  },
  {
   "cell_type": "code",
   "execution_count": 5,
   "metadata": {},
   "outputs": [
    {
     "name": "stdout",
     "output_type": "stream",
     "text": [
      "A + B =\n",
      " [[ 6.  8.]\n",
      " [10. 12.]]\n",
      "\n",
      "A - B =\n",
      " [[-4. -4.]\n",
      " [-4. -4.]]\n",
      "\n",
      "A * B (element-wise) =\n",
      " [[ 5. 12.]\n",
      " [21. 32.]]\n",
      "\n",
      "A / B (element-wise) =\n",
      " [[0.2        0.33333333]\n",
      " [0.42857143 0.5       ]]\n",
      "\n",
      "Shape of A: (2, 2) Shape of B: (2, 2)\n"
     ]
    }
   ],
   "source": [
    "# Addition\n",
    "add_AB = A + B\n",
    "print(\"A + B =\\n\", add_AB)\n",
    "\n",
    "# Subtraction\n",
    "sub_AB = A - B\n",
    "print(\"\\nA - B =\\n\", sub_AB)\n",
    "\n",
    "# Element-wise multiplication\n",
    "elem_mul_AB = A * B\n",
    "print(\"\\nA * B (element-wise) =\\n\", elem_mul_AB)\n",
    "\n",
    "# Element-wise division\n",
    "elem_div_AB = A / B\n",
    "print(\"\\nA / B (element-wise) =\\n\", elem_div_AB)\n",
    "\n",
    "# Check shapes match\n",
    "print(\"\\nShape of A:\", A.shape, \"Shape of B:\", B.shape)"
   ]
  },
  {
   "cell_type": "markdown",
   "metadata": {},
   "source": [
    "## Matrix Multiplication\n",
    "- A @ B\n",
    "- np.matmul(A, B)\n",
    "- manual calculation"
   ]
  },
  {
   "cell_type": "code",
   "execution_count": 6,
   "metadata": {},
   "outputs": [
    {
     "name": "stdout",
     "output_type": "stream",
     "text": [
      "A @ B (matrix multiplication) =\n",
      " [[19. 22.]\n",
      " [43. 50.]]\n",
      "\n",
      "Using np.matmul(A, B) =\n",
      " [[19. 22.]\n",
      " [43. 50.]]\n",
      "\n",
      "Manual calculation =\n",
      " [[19 22]\n",
      " [43 50]]\n",
      "\n",
      "D shape: (2, 3) E shape: (3, 2)\n",
      "D @ E =\n",
      " [[ 58  64]\n",
      " [139 154]]\n"
     ]
    }
   ],
   "source": [
    "matmul_AB = A @ B\n",
    "print(\"A @ B (matrix multiplication) =\\n\", matmul_AB)\n",
    "\n",
    "matmul_AB2 = np.matmul(A, B)\n",
    "print(\"\\nUsing np.matmul(A, B) =\\n\", matmul_AB2)\n",
    "\n",
    "manual_calc = np.array([[1*5 + 2*7, 1*6 + 2*8],\n",
    "                        [3*5 + 4*7, 3*6 + 4*8]])\n",
    "print(\"\\nManual calculation =\\n\", manual_calc)\n",
    "\n",
    "# non-square multiplication: (2×3) @ (3×2) → (2×2)\n",
    "D = np.array([[1, 2, 3],\n",
    "              [4, 5, 6]])\n",
    "E = np.array([[7, 8],\n",
    "              [9, 10],\n",
    "              [11, 12]])\n",
    "print(\"\\nD shape:\", D.shape, \"E shape:\", E.shape)\n",
    "print(\"D @ E =\\n\", D @ E)"
   ]
  },
  {
   "cell_type": "markdown",
   "metadata": {},
   "source": [
    "## Matrix Properties\n",
    "1. Transpose\n",
    "- flip a matrix over its diagonal\n",
    "- rows become cols and cols become rows (first row -> first col)\n",
    "- A.T\n",
    "- np.transpose(A)\n",
    "2. Determinant\n",
    "- scalar value that tells you if a matrix is invertible\n",
    "    - non-zero det: invertible\n",
    "    - zero det: singular\n",
    "- only for square matrices\n",
    "- np.linalg.det(A)\n",
    "3. Rank\n",
    "- number of linearly independent rows or cols\n",
    "- np.linalg.matrix_rank(A)\n",
    "4. Trace\n",
    "- sum of the main diagonal elements\n",
    "- np.trace(A)"
   ]
  },
  {
   "cell_type": "code",
   "execution_count": 7,
   "metadata": {},
   "outputs": [
    {
     "name": "stdout",
     "output_type": "stream",
     "text": [
      "Transpose of A:\n",
      " [[1. 3.]\n",
      " [2. 4.]]\n",
      "\n",
      "Determinant of A: -2.0000000000000004\n",
      "Rank of A: 2\n",
      "Trace of A: 5.0\n",
      "\n",
      "I2:\n",
      " [[1. 0.]\n",
      " [0. 1.]]\n",
      "Determinant of I2: 1.0\n",
      "Trace of I2: 2.0\n"
     ]
    }
   ],
   "source": [
    "# 1. Transpose\n",
    "A_T = A.T\n",
    "print(\"Transpose of A:\\n\", A_T)\n",
    "\n",
    "# 2. Determinant\n",
    "det_A = np.linalg.det(A)\n",
    "print(\"\\nDeterminant of A:\", det_A)\n",
    "\n",
    "# 3. Rank\n",
    "rank_A = np.linalg.matrix_rank(A)\n",
    "print(\"Rank of A:\", rank_A)\n",
    "\n",
    "# 4. Trace\n",
    "trace_A = np.trace(A)\n",
    "print(\"Trace of A:\", trace_A)\n",
    "\n",
    "# test with identity matrix\n",
    "print(\"\\nI2:\\n\", I2)\n",
    "print(\"Determinant of I2:\", np.linalg.det(I2))\n",
    "print(\"Trace of I2:\", np.trace(I2))"
   ]
  },
  {
   "cell_type": "markdown",
   "metadata": {},
   "source": [
    "## Matrix Inverse and Solving Systems of Equations\n",
    "1. Inverse\n",
    "- $A^{-1}$\n",
    "- satisfies $A \\times A^{-1} = I$\n",
    "- only square, invertible matrices (det != 0)\n",
    "- np.linalg.inv(A)\n",
    "2. Moore–Penrose pseudo-inverse\n",
    "- some matrices can't be inverted\n",
    "- np.linalg.pinv(A)\n",
    "    - works for more cases (least-squares solution)\n",
    "3. Solving Ax = b\n",
    "- instead of computing $A^{-1}$ and multiplying\n",
    "- np.linalg.solve(A, b)"
   ]
  },
  {
   "cell_type": "code",
   "execution_count": 8,
   "metadata": {},
   "outputs": [
    {
     "name": "stdout",
     "output_type": "stream",
     "text": [
      "Inverse of A:\n",
      " [[-2.   1. ]\n",
      " [ 1.5 -0.5]]\n",
      "\n",
      "A @ A_inv ≈ I:\n",
      " [[1.0000000e+00 0.0000000e+00]\n",
      " [8.8817842e-16 1.0000000e+00]]\n",
      "\n",
      "Pseudo-inverse of C (2x3):\n",
      " [[-0.94444444  0.44444444]\n",
      " [-0.11111111  0.11111111]\n",
      " [ 0.72222222 -0.22222222]]\n",
      "\n",
      "Solution x to Ax = b:\n",
      " [[-8. ]\n",
      " [ 8.5]]\n",
      "\n",
      "Check A @ x_sol:\n",
      " [[ 9.]\n",
      " [10.]]\n"
     ]
    }
   ],
   "source": [
    "# 1. Inverse of A\n",
    "A_inv = np.linalg.inv(A)\n",
    "print(\"Inverse of A:\\n\", A_inv)\n",
    "\n",
    "# Verify: A @ A_inv ≈ Identity\n",
    "print(\"\\nA @ A_inv ≈ I:\\n\", A @ A_inv)\n",
    "\n",
    "# 2. Pseudo-inverse of a non-square matrix C\n",
    "C_pinv = np.linalg.pinv(C)\n",
    "print(\"\\nPseudo-inverse of C (2x3):\\n\", C_pinv)\n",
    "\n",
    "# 3. Solving Ax = b\n",
    "b = np.array([[9], [10]])  # column vector\n",
    "x_sol = np.linalg.solve(A, b)\n",
    "print(\"\\nSolution x to Ax = b:\\n\", x_sol)\n",
    "\n",
    "# Verify: A @ x_sol ≈ b\n",
    "print(\"\\nCheck A @ x_sol:\\n\", A @ x_sol)"
   ]
  }
 ],
 "metadata": {
  "kernelspec": {
   "display_name": "venv",
   "language": "python",
   "name": "python3"
  },
  "language_info": {
   "codemirror_mode": {
    "name": "ipython",
    "version": 3
   },
   "file_extension": ".py",
   "mimetype": "text/x-python",
   "name": "python",
   "nbconvert_exporter": "python",
   "pygments_lexer": "ipython3",
   "version": "3.13.5"
  }
 },
 "nbformat": 4,
 "nbformat_minor": 2
}
