{
 "cells": [
  {
   "cell_type": "markdown",
   "metadata": {},
   "source": [
    "## Pandas\n",
    "- open-source Python library designed for data manipulation and analysis\n",
    "### Data Structures\n",
    "- Series: 1d labeled array (col)\n",
    "- DataFrame: 2d labeled (full spreadsheet or SQL table)"
   ]
  },
  {
   "cell_type": "code",
   "execution_count": 1,
   "metadata": {},
   "outputs": [],
   "source": [
    "import pandas as pd"
   ]
  },
  {
   "cell_type": "markdown",
   "metadata": {},
   "source": [
    "## DataFrame\n",
    "- two dim, tabular with labeled rows and cols"
   ]
  },
  {
   "cell_type": "code",
   "execution_count": 2,
   "metadata": {},
   "outputs": [
    {
     "name": "stdout",
     "output_type": "stream",
     "text": [
      "      Name  Age Country\n",
      "0    Alice   25     USA\n",
      "1      Bob   30  Canada\n",
      "2  Charlie   35      UK\n"
     ]
    }
   ],
   "source": [
    "data = {\n",
    "    'Name': ['Alice', 'Bob', 'Charlie'],\n",
    "    'Age': [25, 30, 35],\n",
    "    'Country': ['USA', 'Canada', 'UK']\n",
    "}\n",
    "\n",
    "df = pd.DataFrame(data)\n",
    "print(df)"
   ]
  },
  {
   "cell_type": "markdown",
   "metadata": {},
   "source": [
    "## Loading a DataFrame\n",
    "- df = pd.DataFrame(data_dict)      # dict\n",
    "- df = pd.read_csv('data.csv')      # CSV\n",
    "- df = pd.read_exel('data.xlsx')    # Excel"
   ]
  },
  {
   "cell_type": "code",
   "execution_count": 3,
   "metadata": {},
   "outputs": [
    {
     "name": "stdout",
     "output_type": "stream",
     "text": [
      "    OrderID      CustomerName                Product     Category  Quantity  \\\n",
      "0      1001        John Smith                 Laptop  Electronics         1   \n",
      "1      1002         Sarah Lee             Headphones  Electronics         2   \n",
      "2      1003          Ali Khan           Office Chair    Furniture         1   \n",
      "3      1004        Alice Wong              Desk Lamp    Furniture         3   \n",
      "4      1005     Carlos Mendez               Keyboard  Electronics         2   \n",
      "5      1006      Nora Ibrahim               Notebook   Stationery         5   \n",
      "6      1007       Emily Davis          Standing Desk    Furniture         1   \n",
      "7      1008        James Park                Monitor  Electronics         2   \n",
      "8      1009       Maria Rossi                    Pen   Stationery        10   \n",
      "9      1010  Takeshi Nakamura                  Mouse  Electronics         1   \n",
      "10     1011     Sophie Martin                 Webcam  Electronics         1   \n",
      "11     1012         Raj Patel           File Cabinet    Furniture         2   \n",
      "12     1013       Emma Wilson                Stapler   Stationery         3   \n",
      "13     1014   Diego Rodriguez              USB Drive  Electronics         5   \n",
      "14     1015         Lisa Chen              Bookshelf    Furniture         1   \n",
      "15     1016      Ahmed Hassan          Printer Paper   Stationery        20   \n",
      "16     1017     Anna Kowalski         Wireless Mouse  Electronics         2   \n",
      "17     1018     Michael Brown         Desk Organizer    Furniture         1   \n",
      "18     1019       Yuki Tanaka             Calculator  Electronics         1   \n",
      "19     1020   Fatima Al-Zahra             Whiteboard    Furniture         1   \n",
      "20     1021    David Thompson           Highlighters   Stationery         8   \n",
      "21     1022    Isabella Silva      Bluetooth Speaker  Electronics         1   \n",
      "22     1023    Oliver Schmidt           Office Plant    Furniture         2   \n",
      "23     1024        Zara Ahmed           Sticky Notes   Stationery        15   \n",
      "24     1025    Lucas Anderson           Tablet Stand  Electronics         1   \n",
      "25     1026      Chloe Dubois         Paper Shredder  Electronics         1   \n",
      "26     1027     Miguel Torres         Desk Chair Mat    Furniture         1   \n",
      "27     1028       Nina Petrov           Binder Clips   Stationery        12   \n",
      "28     1029      Seo-yeon Kim      Wireless Keyboard  Electronics         1   \n",
      "29     1030   Giuseppe Romano          Desk Calendar    Furniture         1   \n",
      "30     1031      Amira Hassan                USB Hub  Electronics         1   \n",
      "31     1032     Thomas Müller       Document Scanner  Electronics         1   \n",
      "32     1033   Sofia Rodriguez  Desk Drawer Organizer    Furniture         1   \n",
      "33     1034      Alex Johnson            Index Cards   Stationery       100   \n",
      "34     1035     Yuki Yamamoto          Monitor Stand  Electronics         1   \n",
      "35     1036     Emma Thompson     Desk Lamp with USB    Furniture         1   \n",
      "36     1037     Carlos Santos       Wireless Earbuds  Electronics         1   \n",
      "37     1038    Leila Mansouri               Desk Pad    Furniture         1   \n",
      "38     1039        Daniel Kim            Power Strip  Electronics         2   \n",
      "39     1040      Anna Ivanova             Desk Clock    Furniture         1   \n",
      "\n",
      "     Price   OrderDate Shipped       Country  \n",
      "0   1200.0  2024-06-01     Yes           USA  \n",
      "1    150.0  2024-06-03      No        Canada  \n",
      "2    300.0  2024-06-04     Yes           UAE  \n",
      "3     45.0  2024-06-05     Yes     Singapore  \n",
      "4     80.0  2024-06-06      No        Mexico  \n",
      "5      5.0  2024-06-07     Yes           UAE  \n",
      "6    450.0  2024-06-08     Yes            UK  \n",
      "7    220.0  2024-06-09      No   South Korea  \n",
      "8      1.5  2024-06-10     Yes         Italy  \n",
      "9     35.0  2024-06-11     Yes         Japan  \n",
      "10    85.0  2024-06-12     Yes        France  \n",
      "11   180.0  2024-06-13      No         India  \n",
      "12    12.0  2024-06-14     Yes     Australia  \n",
      "13    25.0  2024-06-15     Yes         Spain  \n",
      "14   280.0  2024-06-16      No         China  \n",
      "15     8.0  2024-06-17     Yes         Egypt  \n",
      "16    45.0  2024-06-18     Yes        Poland  \n",
      "17    65.0  2024-06-19      No           USA  \n",
      "18    15.0  2024-06-20     Yes         Japan  \n",
      "19   120.0  2024-06-21     Yes  Saudi Arabia  \n",
      "20     3.5  2024-06-22      No        Canada  \n",
      "21    95.0  2024-06-23     Yes        Brazil  \n",
      "22    35.0  2024-06-24     Yes       Germany  \n",
      "23     4.0  2024-06-25      No      Pakistan  \n",
      "24    28.0  2024-06-26     Yes        Sweden  \n",
      "25    75.0  2024-06-27     Yes        France  \n",
      "26    22.0  2024-06-28      No     Argentina  \n",
      "27     2.5  2024-06-29     Yes        Russia  \n",
      "28   110.0  2024-06-30     Yes   South Korea  \n",
      "29    18.0  2024-07-01      No         Italy  \n",
      "30    32.0  2024-07-02     Yes       Morocco  \n",
      "31   140.0  2024-07-03     Yes       Germany  \n",
      "32    42.0  2024-07-04      No      Colombia  \n",
      "33     0.8  2024-07-05     Yes           USA  \n",
      "34    55.0  2024-07-06     Yes         Japan  \n",
      "35    68.0  2024-07-07      No            UK  \n",
      "36   125.0  2024-07-08     Yes      Portugal  \n",
      "37    28.0  2024-07-09     Yes          Iran  \n",
      "38    18.0  2024-07-10      No   South Korea  \n",
      "39    35.0  2024-07-11     Yes       Ukraine  \n"
     ]
    }
   ],
   "source": [
    "df = pd.read_csv(\"orders.csv\")\n",
    "print(df)"
   ]
  },
  {
   "cell_type": "markdown",
   "metadata": {},
   "source": [
    "## Exploring a DataFrame\n",
    "- df.head() - first 5 rows\n",
    "- df.tail() - last 5 rows\n",
    "- df.info() - col types and non-null value\n",
    "- df.describe() - summary stats (count, mean, std, etc.)\n",
    "- df.columns - col names\n",
    "- df.index - row indices"
   ]
  },
  {
   "cell_type": "code",
   "execution_count": 4,
   "metadata": {},
   "outputs": [
    {
     "name": "stdout",
     "output_type": "stream",
     "text": [
      "   OrderID   CustomerName       Product     Category  Quantity   Price  \\\n",
      "0     1001     John Smith        Laptop  Electronics         1  1200.0   \n",
      "1     1002      Sarah Lee    Headphones  Electronics         2   150.0   \n",
      "2     1003       Ali Khan  Office Chair    Furniture         1   300.0   \n",
      "3     1004     Alice Wong     Desk Lamp    Furniture         3    45.0   \n",
      "4     1005  Carlos Mendez      Keyboard  Electronics         2    80.0   \n",
      "\n",
      "    OrderDate Shipped    Country  \n",
      "0  2024-06-01     Yes        USA  \n",
      "1  2024-06-03      No     Canada  \n",
      "2  2024-06-04     Yes        UAE  \n",
      "3  2024-06-05     Yes  Singapore  \n",
      "4  2024-06-06      No     Mexico  \n",
      "    OrderID    CustomerName             Product     Category  Quantity  Price  \\\n",
      "35     1036   Emma Thompson  Desk Lamp with USB    Furniture         1   68.0   \n",
      "36     1037   Carlos Santos    Wireless Earbuds  Electronics         1  125.0   \n",
      "37     1038  Leila Mansouri            Desk Pad    Furniture         1   28.0   \n",
      "38     1039      Daniel Kim         Power Strip  Electronics         2   18.0   \n",
      "39     1040    Anna Ivanova          Desk Clock    Furniture         1   35.0   \n",
      "\n",
      "     OrderDate Shipped      Country  \n",
      "35  2024-07-07      No           UK  \n",
      "36  2024-07-08     Yes     Portugal  \n",
      "37  2024-07-09     Yes         Iran  \n",
      "38  2024-07-10      No  South Korea  \n",
      "39  2024-07-11     Yes      Ukraine  \n"
     ]
    }
   ],
   "source": [
    "print(df.head())\n",
    "print(df.tail())"
   ]
  },
  {
   "cell_type": "code",
   "execution_count": 5,
   "metadata": {},
   "outputs": [
    {
     "name": "stdout",
     "output_type": "stream",
     "text": [
      "<class 'pandas.core.frame.DataFrame'>\n",
      "RangeIndex: 40 entries, 0 to 39\n",
      "Data columns (total 9 columns):\n",
      " #   Column        Non-Null Count  Dtype  \n",
      "---  ------        --------------  -----  \n",
      " 0   OrderID       40 non-null     int64  \n",
      " 1   CustomerName  40 non-null     object \n",
      " 2   Product       40 non-null     object \n",
      " 3   Category      40 non-null     object \n",
      " 4   Quantity      40 non-null     int64  \n",
      " 5   Price         40 non-null     float64\n",
      " 6   OrderDate     40 non-null     object \n",
      " 7   Shipped       40 non-null     object \n",
      " 8   Country       40 non-null     object \n",
      "dtypes: float64(1), int64(2), object(6)\n",
      "memory usage: 2.9+ KB\n",
      "None\n",
      "           OrderID    Quantity        Price\n",
      "count    40.000000   40.000000    40.000000\n",
      "mean   1020.500000    5.450000   106.457500\n",
      "std      11.690452   15.903475   201.091854\n",
      "min    1001.000000    1.000000     0.800000\n",
      "25%    1010.750000    1.000000    18.000000\n",
      "50%    1020.500000    1.000000    43.500000\n",
      "75%    1030.250000    2.250000   112.500000\n",
      "max    1040.000000  100.000000  1200.000000\n"
     ]
    }
   ],
   "source": [
    "print(df.info())\n",
    "print(df.describe())"
   ]
  },
  {
   "cell_type": "code",
   "execution_count": 6,
   "metadata": {},
   "outputs": [
    {
     "name": "stdout",
     "output_type": "stream",
     "text": [
      "RangeIndex(start=0, stop=40, step=1)\n",
      "Index(['OrderID', 'CustomerName', 'Product', 'Category', 'Quantity', 'Price',\n",
      "       'OrderDate', 'Shipped', 'Country'],\n",
      "      dtype='object')\n"
     ]
    }
   ],
   "source": [
    "print(df.index)\n",
    "print(df.columns)"
   ]
  },
  {
   "cell_type": "markdown",
   "metadata": {},
   "source": [
    "## Accessing & Filtering Data\n",
    "- basic access\n",
    "- conditional filtering (boolean masks)\n",
    "- advanced filtering"
   ]
  },
  {
   "cell_type": "markdown",
   "metadata": {},
   "source": [
    "### Basic access\n",
    "- df['Age'] - single col\n",
    "- df[['Name', 'Age']] - multiple cols\n",
    "- df.iloc[0] - first row by pos\n",
    "- df.loc[0] - first row by label (default is index in csv)"
   ]
  },
  {
   "cell_type": "code",
   "execution_count": 18,
   "metadata": {},
   "outputs": [
    {
     "name": "stdout",
     "output_type": "stream",
     "text": [
      "0    1001\n",
      "1    1002\n",
      "2    1003\n",
      "3    1004\n",
      "4    1005\n",
      "Name: OrderID, dtype: int64\n",
      "      Category   Price\n",
      "0  Electronics  1200.0\n",
      "1  Electronics   150.0\n",
      "2    Furniture   300.0\n",
      "3    Furniture    45.0\n",
      "4  Electronics    80.0\n",
      "40\n",
      "{0.8, 1.5, 2.5, 3.5, 4.0, 5.0, 8.0, 12.0, 140.0, 15.0, 18.0, 150.0, 22.0, 280.0, 25.0, 28.0, 32.0, 35.0, 42.0, 300.0, 45.0, 1200.0, 180.0, 55.0, 65.0, 450.0, 68.0, 75.0, 80.0, 85.0, 220.0, 95.0, 110.0, 120.0, 125.0}\n"
     ]
    }
   ],
   "source": [
    "# single col\n",
    "print(df[\"OrderID\"][:5])                # get first 5 rows\n",
    "# multiple cols\n",
    "print(df[[\"Category\", \"Price\"]][:5])    # get first 5 rows\n",
    "\n",
    "# can use python functions while accessing\n",
    "print(len(df[\"Country\"]))\n",
    "print(set(df[\"Price\"]))"
   ]
  },
  {
   "cell_type": "code",
   "execution_count": 21,
   "metadata": {},
   "outputs": [
    {
     "name": "stdout",
     "output_type": "stream",
     "text": [
      "OrderID                1001\n",
      "CustomerName     John Smith\n",
      "Product              Laptop\n",
      "Category        Electronics\n",
      "Quantity                  1\n",
      "Price                1200.0\n",
      "OrderDate        2024-06-01\n",
      "Shipped                 Yes\n",
      "Country                 USA\n",
      "Name: 0, dtype: object\n",
      "OrderID                1001\n",
      "CustomerName     John Smith\n",
      "Product              Laptop\n",
      "Category        Electronics\n",
      "Quantity                  1\n",
      "Price                1200.0\n",
      "OrderDate        2024-06-01\n",
      "Shipped                 Yes\n",
      "Country                 USA\n",
      "Name: 0, dtype: object\n",
      "OrderID         True\n",
      "CustomerName    True\n",
      "Product         True\n",
      "Category        True\n",
      "Quantity        True\n",
      "Price           True\n",
      "OrderDate       True\n",
      "Shipped         True\n",
      "Country         True\n",
      "Name: 0, dtype: bool\n",
      "True\n"
     ]
    }
   ],
   "source": [
    "first_row = df.iloc[0]\n",
    "print(first_row)\n",
    "first_row2 = df.loc[0]\n",
    "print(first_row2)\n",
    "\n",
    "# Equality\n",
    "print(first_row == first_row2)          # checks every row or col\n",
    "print(first_row.equals(first_row2))     # checks whole table\n"
   ]
  },
  {
   "cell_type": "code",
   "execution_count": 8,
   "metadata": {},
   "outputs": [
    {
     "data": {
      "text/html": [
       "<div>\n",
       "<style scoped>\n",
       "    .dataframe tbody tr th:only-of-type {\n",
       "        vertical-align: middle;\n",
       "    }\n",
       "\n",
       "    .dataframe tbody tr th {\n",
       "        vertical-align: top;\n",
       "    }\n",
       "\n",
       "    .dataframe thead th {\n",
       "        text-align: right;\n",
       "    }\n",
       "</style>\n",
       "<table border=\"1\" class=\"dataframe\">\n",
       "  <thead>\n",
       "    <tr style=\"text-align: right;\">\n",
       "      <th></th>\n",
       "      <th>Country</th>\n",
       "      <th>Product</th>\n",
       "    </tr>\n",
       "  </thead>\n",
       "  <tbody>\n",
       "    <tr>\n",
       "      <th>0</th>\n",
       "      <td>USA</td>\n",
       "      <td>Laptop</td>\n",
       "    </tr>\n",
       "    <tr>\n",
       "      <th>1</th>\n",
       "      <td>Canada</td>\n",
       "      <td>Headphones</td>\n",
       "    </tr>\n",
       "    <tr>\n",
       "      <th>2</th>\n",
       "      <td>UAE</td>\n",
       "      <td>Office Chair</td>\n",
       "    </tr>\n",
       "    <tr>\n",
       "      <th>3</th>\n",
       "      <td>Singapore</td>\n",
       "      <td>Desk Lamp</td>\n",
       "    </tr>\n",
       "    <tr>\n",
       "      <th>4</th>\n",
       "      <td>Mexico</td>\n",
       "      <td>Keyboard</td>\n",
       "    </tr>\n",
       "  </tbody>\n",
       "</table>\n",
       "</div>"
      ],
      "text/plain": [
       "     Country       Product\n",
       "0        USA        Laptop\n",
       "1     Canada    Headphones\n",
       "2        UAE  Office Chair\n",
       "3  Singapore     Desk Lamp\n",
       "4     Mexico      Keyboard"
      ]
     },
     "execution_count": 8,
     "metadata": {},
     "output_type": "execute_result"
    }
   ],
   "source": [
    "df[[\"Country\", \"Product\"]].head()"
   ]
  },
  {
   "cell_type": "code",
   "execution_count": 9,
   "metadata": {},
   "outputs": [
    {
     "name": "stdout",
     "output_type": "stream",
     "text": [
      "OrderID                1001\n",
      "CustomerName     John Smith\n",
      "Product              Laptop\n",
      "Category        Electronics\n",
      "Quantity                  1\n",
      "Price                1200.0\n",
      "OrderDate        2024-06-01\n",
      "Shipped                 Yes\n",
      "Country                 USA\n",
      "Name: 0, dtype: object\n",
      "[np.int64(1011), 'Sophie Martin', 'Webcam', 'Electronics', np.int64(1), np.float64(85.0), '2024-06-12', 'Yes', 'France']\n",
      "80.0\n"
     ]
    }
   ],
   "source": [
    "print(df.iloc[0])\n",
    "print(list(df.iloc[10]))\n",
    "print(df.iloc[4][\"Price\"])"
   ]
  },
  {
   "cell_type": "code",
   "execution_count": 12,
   "metadata": {},
   "outputs": [
    {
     "name": "stdout",
     "output_type": "stream",
     "text": [
      "Empty DataFrame\n",
      "Columns: [OrderID, CustomerName, Product, Category, Quantity, Price, OrderDate, Shipped, Country]\n",
      "Index: []\n",
      "    OrderID      CustomerName            Product     Category  Quantity  \\\n",
      "0      1001        John Smith             Laptop  Electronics         1   \n",
      "1      1002         Sarah Lee         Headphones  Electronics         2   \n",
      "4      1005     Carlos Mendez           Keyboard  Electronics         2   \n",
      "7      1008        James Park            Monitor  Electronics         2   \n",
      "9      1010  Takeshi Nakamura              Mouse  Electronics         1   \n",
      "10     1011     Sophie Martin             Webcam  Electronics         1   \n",
      "13     1014   Diego Rodriguez          USB Drive  Electronics         5   \n",
      "16     1017     Anna Kowalski     Wireless Mouse  Electronics         2   \n",
      "18     1019       Yuki Tanaka         Calculator  Electronics         1   \n",
      "21     1022    Isabella Silva  Bluetooth Speaker  Electronics         1   \n",
      "24     1025    Lucas Anderson       Tablet Stand  Electronics         1   \n",
      "25     1026      Chloe Dubois     Paper Shredder  Electronics         1   \n",
      "28     1029      Seo-yeon Kim  Wireless Keyboard  Electronics         1   \n",
      "30     1031      Amira Hassan            USB Hub  Electronics         1   \n",
      "31     1032     Thomas Müller   Document Scanner  Electronics         1   \n",
      "34     1035     Yuki Yamamoto      Monitor Stand  Electronics         1   \n",
      "36     1037     Carlos Santos   Wireless Earbuds  Electronics         1   \n",
      "38     1039        Daniel Kim        Power Strip  Electronics         2   \n",
      "\n",
      "     Price   OrderDate Shipped      Country  \n",
      "0   1200.0  2024-06-01     Yes          USA  \n",
      "1    150.0  2024-06-03      No       Canada  \n",
      "4     80.0  2024-06-06      No       Mexico  \n",
      "7    220.0  2024-06-09      No  South Korea  \n",
      "9     35.0  2024-06-11     Yes        Japan  \n",
      "10    85.0  2024-06-12     Yes       France  \n",
      "13    25.0  2024-06-15     Yes        Spain  \n",
      "16    45.0  2024-06-18     Yes       Poland  \n",
      "18    15.0  2024-06-20     Yes        Japan  \n",
      "21    95.0  2024-06-23     Yes       Brazil  \n",
      "24    28.0  2024-06-26     Yes       Sweden  \n",
      "25    75.0  2024-06-27     Yes       France  \n",
      "28   110.0  2024-06-30     Yes  South Korea  \n",
      "30    32.0  2024-07-02     Yes      Morocco  \n",
      "31   140.0  2024-07-03     Yes      Germany  \n",
      "34    55.0  2024-07-06     Yes        Japan  \n",
      "36   125.0  2024-07-08     Yes     Portugal  \n",
      "38    18.0  2024-07-10      No  South Korea  \n"
     ]
    }
   ],
   "source": [
    "\n",
    "# empty table - there are no products named \"electronics\"\n",
    "print(df[df[\"Product\"] == \"Electronics\"])\n",
    "\n",
    "# print rows where category is \"electronics\"\n",
    "electronics_rows = df[df[\"Category\"] == \"Electronics\"]\n",
    "print(electronics_rows)"
   ]
  }
 ],
 "metadata": {
  "kernelspec": {
   "display_name": "venv",
   "language": "python",
   "name": "python3"
  },
  "language_info": {
   "codemirror_mode": {
    "name": "ipython",
    "version": 3
   },
   "file_extension": ".py",
   "mimetype": "text/x-python",
   "name": "python",
   "nbconvert_exporter": "python",
   "pygments_lexer": "ipython3",
   "version": "3.13.5"
  }
 },
 "nbformat": 4,
 "nbformat_minor": 2
}
